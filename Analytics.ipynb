{
 "cells": [
  {
   "cell_type": "code",
   "execution_count": 5,
   "metadata": {},
   "outputs": [],
   "source": [
    "import numpy as np\n",
    "import pandas as pd\n",
    "import matplotlib.pyplot as plt\n",
    "import glob\n",
    "from mpl_toolkits.mplot3d import Axes3D"
   ]
  },
  {
   "cell_type": "code",
   "execution_count": 114,
   "metadata": {},
   "outputs": [],
   "source": [
    "def clean_list(s):\n",
    "    output = \"\"\n",
    "    for c in s:\n",
    "        if c >= '0' and c <= '9' or c == '.' or c == ' ' or c == 'e' or c == '-':\n",
    "            output += c\n",
    "            \n",
    "    return output"
   ]
  },
  {
   "cell_type": "code",
   "execution_count": 128,
   "metadata": {},
   "outputs": [],
   "source": [
    "def community_mapping(communities):\n",
    "    str_int, int_str = {}, {}\n",
    "    cnt = 0\n",
    "    \n",
    "    for community in communities:\n",
    "        if community not in str_int:\n",
    "            str_int[community] = cnt\n",
    "            int_str[cnt] = community\n",
    "            cnt += 1\n",
    "            \n",
    "    return (str_int, int_str)"
   ]
  },
  {
   "cell_type": "code",
   "execution_count": 140,
   "metadata": {},
   "outputs": [],
   "source": [
    "maps = {}\n",
    "files = glob.glob(\"analysis/*\")\n",
    "\n",
    "for file in files:\n",
    "    user = file.split('/')[1].split('.')[0][6:]\n",
    "    \n",
    "    data = pd.read_csv('stat428/'+user+'.csv').values\n",
    "    data = data[data[:,-1].argsort()]\n",
    "    \n",
    "    (_, community_int_str) = community_mapping(data[:, 0])\n",
    "    maps[user] = community_int_str"
   ]
  },
  {
   "cell_type": "code",
   "execution_count": 126,
   "metadata": {},
   "outputs": [
    {
     "name": "stdout",
     "output_type": "stream",
     "text": [
      "(180, 3)\n"
     ]
    }
   ],
   "source": [
    "community_weights = []\n",
    "files = glob.glob(\"analysis/*\")\n",
    "\n",
    "for file in files:\n",
    "    df = pd.read_csv(file)\n",
    "    vals = clean_list(df['mean_action_weight'].values[0]).split()\n",
    "    community_weights.append([float(val) for val in vals])\n",
    "    \n",
    "df = pd.DataFrame(data=community_weights)\n",
    "print(df.shape)\n",
    "df.to_csv('action_weight.csv')"
   ]
  },
  {
   "cell_type": "code",
   "execution_count": 127,
   "metadata": {},
   "outputs": [
    {
     "name": "stdout",
     "output_type": "stream",
     "text": [
      "(180, 93)\n"
     ]
    }
   ],
   "source": [
    "community_weights = []\n",
    "files = glob.glob(\"analysis/*\")\n",
    "\n",
    "for file in files:\n",
    "    df = pd.read_csv(file)\n",
    "    vals = clean_list(df['mean_community_weight'].values[0]).split()\n",
    "    community_weights.append([float(val) for val in vals])\n",
    "    \n",
    "df = pd.DataFrame(data=community_weights)\n",
    "print(df.shape)\n",
    "df.to_csv('community_weight.csv')"
   ]
  },
  {
   "cell_type": "code",
   "execution_count": 155,
   "metadata": {},
   "outputs": [
    {
     "name": "stdout",
     "output_type": "stream",
     "text": [
      "{'electronics': 19, 'apple': 56, 'gis': 17, 'english': 40, 'gaming': 40, 'dba': 23, 'diy': 32, 'ell': 1, 'codereview': 20, 'askubuntu': 33, 'homebrew': 6, 'aviation': 3, 'history': 7, 'crypto': 7, 'expatriates': 3, 'french': 4, 'boardgames': 7, 'fitness': 7, 'cooking': 31, 'avp': 4, 'bricks': 6, 'health': 1, 'earthscience': 2, 'gardening': 10, 'android': 25, 'es_stackoverflow': 2, 'gamedev': 19, 'graphicdesign': 5, 'german': 4, 'drupal': 6, 'engineering': 1, 'bicycles': 13, 'ham': 3, 'buddhism': 1, 'beer': 2, 'biology': 1, 'christianity': 5, 'hermeneutics': 5, 'law': 1, 'judaism': 4, 'academia': 2, 'bitcoin': 3, 'codegolf': 10, 'hardwarerecs': 1, 'dsp': 3, 'freelancing': 2, 'emacs': 2, 'expressionengine': 2, 'joomla': 1, 'cs': 3, '3dprinting': 2, 'cstheory': 1, 'anime': 1, 'latin': 1, 'japanese': 2, 'ai': 1, 'economics': 1, 'lifehacks': 1, 'linguistics': 1, 'chemistry': 1}\n"
     ]
    }
   ],
   "source": [
    "community_heat = {}\n",
    "files = glob.glob(\"analysis/*\")\n",
    "\n",
    "for file in files:\n",
    "    user = file.split('/')[1].split('.')[0][6:]\n",
    "    df = pd.read_csv(file)\n",
    "    \n",
    "    vals = clean_list(df['mean_community_weight'].values[0]).split()\n",
    "    weights = np.array([float(val) for val in vals])\n",
    "    \n",
    "    args = np.argsort(-weights)\n",
    "    cnt = 0\n",
    "    for arg in args:\n",
    "        if arg in maps[user]:\n",
    "            community_heat[maps[user][arg]] = community_heat.get(maps[user][arg], 0) + 1\n",
    "            cnt += 1\n",
    "        if cnt == 3:\n",
    "            break"
   ]
  },
  {
   "cell_type": "code",
   "execution_count": 159,
   "metadata": {},
   "outputs": [],
   "source": [
    "dict_df = {key:[val] for key, val in community_heat.items()}\n",
    "df = pd.DataFrame(data=dict_df)\n",
    "df.to_csv('community_overview.csv')"
   ]
  },
  {
   "cell_type": "code",
   "execution_count": 161,
   "metadata": {},
   "outputs": [],
   "source": [
    "communities = [c for c, _ in community_heat.items()]"
   ]
  },
  {
   "cell_type": "code",
   "execution_count": 167,
   "metadata": {},
   "outputs": [
    {
     "data": {
      "text/plain": [
       "{0: 'apple',\n",
       " 1: 'codereview',\n",
       " 2: 'gis',\n",
       " 3: 'english',\n",
       " 4: 'electronics',\n",
       " 5: 'dba'}"
      ]
     },
     "execution_count": 167,
     "metadata": {},
     "output_type": "execute_result"
    }
   ],
   "source": [
    "maps['4495']"
   ]
  },
  {
   "cell_type": "code",
   "execution_count": 185,
   "metadata": {},
   "outputs": [],
   "source": [
    "all_heat = {c:[] for c in communities}\n",
    "all_heat['user'] = []\n",
    "files = glob.glob(\"analysis/*\")\n",
    "\n",
    "for file in files:\n",
    "    user = file.split('/')[1].split('.')[0][6:]\n",
    "    df = pd.read_csv(file)\n",
    "    \n",
    "    vals = clean_list(df['mean_community_weight'].values[0]).split()\n",
    "    weights = np.array([float(val) for val in vals])\n",
    "\n",
    "    all_heat['user'].append(user)\n",
    "    cur_communities = []\n",
    "    for idx, weight in enumerate(weights):\n",
    "        cur_community = maps[user][idx]\n",
    "        if cur_community not in all_heat:\n",
    "            all_heat[cur_community] = []\n",
    "        all_heat[cur_community].append(weight)\n",
    "        cur_communities.append(cur_community)\n",
    "        \n",
    "        if idx + 1 == len(maps[user]):\n",
    "            break\n",
    "    \n",
    "    for c in communities:\n",
    "        if c not in cur_communities:\n",
    "            all_heat[c].append(0)"
   ]
  },
  {
   "cell_type": "code",
   "execution_count": 191,
   "metadata": {},
   "outputs": [],
   "source": [
    "empty_key = []\n",
    "for key, val in all_heat.items():\n",
    "    if len(val) != 180:\n",
    "        empty_key.append(key)\n",
    "        \n",
    "for key in empty_key:\n",
    "    del all_heat[key]"
   ]
  },
  {
   "cell_type": "code",
   "execution_count": 196,
   "metadata": {},
   "outputs": [],
   "source": [
    "df = pd.DataFrame()\n",
    "for key, val in all_heat.items():\n",
    "    df[key] = val\n",
    "    \n",
    "df.to_csv('user_community.csv')"
   ]
  },
  {
   "cell_type": "code",
   "execution_count": null,
   "metadata": {},
   "outputs": [],
   "source": [
    "dict_df = {key:[val] for key, val in community_heat.items()}\n",
    "df = pd.DataFrame(data=dict_df)\n",
    "df.to_csv('community_overview.csv')"
   ]
  },
  {
   "cell_type": "code",
   "execution_count": 118,
   "metadata": {},
   "outputs": [
    {
     "data": {
      "text/plain": [
       "Text(0.5,0,'others')"
      ]
     },
     "execution_count": 118,
     "metadata": {},
     "output_type": "execute_result"
    },
    {
     "data": {
      "image/png": "[encoded data removed]",
      "text/plain": [
       "<Figure size 432x288 with 1 Axes>"
      ]
     },
     "metadata": {},
     "output_type": "display_data"
    }
   ],
   "source": [
    "ax = plt.axes(projection='3d')\n",
    "ax.scatter(xs=xs, ys=ys, zs=zs, cmap='Greens')\n",
    "ax.set_xlabel('question')\n",
    "ax.set_ylabel('answer')\n",
    "ax.set_zlabel('others')"
   ]
  },
  {
   "cell_type": "code",
   "execution_count": 147,
   "metadata": {},
   "outputs": [
    {
     "data": {
      "text/plain": [
       "0"
      ]
     },
     "execution_count": 147,
     "metadata": {},
     "output_type": "execute_result"
    }
   ],
   "source": [
    "d = {}\n",
    "d.get(0, 0)"
   ]
  },
  {
   "cell_type": "code",
   "execution_count": null,
   "metadata": {},
   "outputs": [],
   "source": []
  }
 ],
 "metadata": {
  "kernelspec": {
   "display_name": "Python 3",
   "language": "python",
   "name": "python3"
  },
  "language_info": {
   "codemirror_mode": {
    "name": "ipython",
    "version": 3
   },
   "file_extension": ".py",
   "mimetype": "text/x-python",
   "name": "python",
   "nbconvert_exporter": "python",
   "pygments_lexer": "ipython3",
   "version": "3.6.4"
  }
 },
 "nbformat": 4,
 "nbformat_minor": 2
}
