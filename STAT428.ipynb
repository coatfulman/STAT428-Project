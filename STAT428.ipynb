{
 "cells": [
  {
   "cell_type": "code",
   "execution_count": 1,
   "metadata": {},
   "outputs": [
    {
     "name": "stderr",
     "output_type": "stream",
     "text": [
      "/Library/Frameworks/Python.framework/Versions/3.6/lib/python3.6/site-packages/h5py/__init__.py:36: FutureWarning: Conversion of the second argument of issubdtype from `float` to `np.floating` is deprecated. In future, it will be treated as `np.float64 == np.dtype(float).type`.\n",
      "  from ._conv import register_converters as _register_converters\n"
     ]
    }
   ],
   "source": [
    "import numpy as np\n",
    "from tqdm import tqdm_notebook as tqdm\n",
    "import pandas as pd\n",
    "import math\n",
    "import matplotlib.pyplot as plt\n",
    "from scipy.optimize import curve_fit\n",
    "import pymc3 as pm\n",
    "import os\n",
    "import matplotlib.cm as cm\n",
    "from random import random\n",
    "%matplotlib inline"
   ]
  },
  {
   "cell_type": "markdown",
   "metadata": {},
   "source": [
    "# Utilities for loading data"
   ]
  },
  {
   "cell_type": "code",
   "execution_count": 2,
   "metadata": {},
   "outputs": [],
   "source": [
    "def isflt(s):\n",
    "    s = s.split('.')\n",
    "    if len(s) == 2 and s[0].isdigit() and s[1].isdigit():\n",
    "        return True\n",
    "\n",
    "    if len(s) != 2:\n",
    "        return False\n",
    "    if s[0].isdigit() == False or s[1].isdigit() == False:\n",
    "        return False\n",
    "    \n",
    "    return True"
   ]
  },
  {
   "cell_type": "code",
   "execution_count": 3,
   "metadata": {},
   "outputs": [],
   "source": [
    "def add_header(df, header):\n",
    "    tmp = df.columns.values\n",
    "    for idx, val in enumerate(tmp):\n",
    "        if val.isdigit():\n",
    "            tmp[idx] = int(val)\n",
    "        elif isflt(val):\n",
    "            tmp[idx] = int(val.split('.')[0])\n",
    "        elif val[0] == '-' and val[1:].isdigit():\n",
    "            tmp[idx] = -int(val[1:])\n",
    "    df.columns = header\n",
    "    y = pd.DataFrame(tmp.reshape(1,len(tmp)), columns=header)\n",
    "    df = df.append(y, ignore_index=True)\n",
    "    return df"
   ]
  },
  {
   "cell_type": "code",
   "execution_count": 4,
   "metadata": {},
   "outputs": [],
   "source": [
    "def date_parser(date):\n",
    "    date = date.split('T')[0]\n",
    "    [year, mon, day] = date.split('-')\n",
    "    \n",
    "    return (int(year) - 2000) * 365 + int(mon) * 30 + int(day)"
   ]
  },
  {
   "cell_type": "markdown",
   "metadata": {},
   "source": [
    "# Load data"
   ]
  },
  {
   "cell_type": "code",
   "execution_count": 5,
   "metadata": {},
   "outputs": [
    {
     "data": {
      "text/html": [
       "<div>\n",
       "<style scoped>\n",
       "    .dataframe tbody tr th:only-of-type {\n",
       "        vertical-align: middle;\n",
       "    }\n",
       "\n",
       "    .dataframe tbody tr th {\n",
       "        vertical-align: top;\n",
       "    }\n",
       "\n",
       "    .dataframe thead th {\n",
       "        text-align: right;\n",
       "    }\n",
       "</style>\n",
       "<table border=\"1\" class=\"dataframe\">\n",
       "  <thead>\n",
       "    <tr style=\"text-align: right;\">\n",
       "      <th></th>\n",
       "      <th>community</th>\n",
       "      <th>VoteId</th>\n",
       "      <th>PostId</th>\n",
       "      <th>VoteTypeId</th>\n",
       "      <th>CreationDate</th>\n",
       "    </tr>\n",
       "  </thead>\n",
       "  <tbody>\n",
       "    <tr>\n",
       "      <th>0</th>\n",
       "      <td>3dprinting</td>\n",
       "      <td>2</td>\n",
       "      <td>2</td>\n",
       "      <td>2</td>\n",
       "      <td>2016-01-12T00:00:00.000</td>\n",
       "    </tr>\n",
       "    <tr>\n",
       "      <th>1</th>\n",
       "      <td>3dprinting</td>\n",
       "      <td>3</td>\n",
       "      <td>3</td>\n",
       "      <td>2</td>\n",
       "      <td>2016-01-12T00:00:00.000</td>\n",
       "    </tr>\n",
       "    <tr>\n",
       "      <th>2</th>\n",
       "      <td>3dprinting</td>\n",
       "      <td>4</td>\n",
       "      <td>1</td>\n",
       "      <td>2</td>\n",
       "      <td>2016-01-12T00:00:00.000</td>\n",
       "    </tr>\n",
       "    <tr>\n",
       "      <th>3</th>\n",
       "      <td>3dprinting</td>\n",
       "      <td>5</td>\n",
       "      <td>2</td>\n",
       "      <td>16</td>\n",
       "      <td>2016-01-12T00:00:00.000</td>\n",
       "    </tr>\n",
       "    <tr>\n",
       "      <th>4</th>\n",
       "      <td>3dprinting</td>\n",
       "      <td>6</td>\n",
       "      <td>4</td>\n",
       "      <td>2</td>\n",
       "      <td>2016-01-12T00:00:00.000</td>\n",
       "    </tr>\n",
       "  </tbody>\n",
       "</table>\n",
       "</div>"
      ],
      "text/plain": [
       "    community VoteId PostId VoteTypeId             CreationDate\n",
       "0  3dprinting      2      2          2  2016-01-12T00:00:00.000\n",
       "1  3dprinting      3      3          2  2016-01-12T00:00:00.000\n",
       "2  3dprinting      4      1          2  2016-01-12T00:00:00.000\n",
       "3  3dprinting      5      2         16  2016-01-12T00:00:00.000\n",
       "4  3dprinting      6      4          2  2016-01-12T00:00:00.000"
      ]
     },
     "execution_count": 5,
     "metadata": {},
     "output_type": "execute_result"
    }
   ],
   "source": [
    "votes_header = ['community', 'Id', 'PostId', 'VoteTypeId', 'CreationDate']\n",
    "\n",
    "votes = add_header(pd.read_csv('votes.csv'), votes_header).rename(columns = {'Id':'VoteId'})\n",
    "votes[:5]"
   ]
  },
  {
   "cell_type": "code",
   "execution_count": 6,
   "metadata": {},
   "outputs": [
    {
     "data": {
      "text/html": [
       "<div>\n",
       "<style scoped>\n",
       "    .dataframe tbody tr th:only-of-type {\n",
       "        vertical-align: middle;\n",
       "    }\n",
       "\n",
       "    .dataframe tbody tr th {\n",
       "        vertical-align: top;\n",
       "    }\n",
       "\n",
       "    .dataframe thead th {\n",
       "        text-align: right;\n",
       "    }\n",
       "</style>\n",
       "<table border=\"1\" class=\"dataframe\">\n",
       "  <thead>\n",
       "    <tr style=\"text-align: right;\">\n",
       "      <th></th>\n",
       "      <th>community</th>\n",
       "      <th>UserId</th>\n",
       "      <th>Reputation</th>\n",
       "      <th>CreationDate</th>\n",
       "      <th>LastAccessDate</th>\n",
       "      <th>Age</th>\n",
       "      <th>Views</th>\n",
       "      <th>UpVotes</th>\n",
       "      <th>DownVotes</th>\n",
       "      <th>AccountId</th>\n",
       "    </tr>\n",
       "  </thead>\n",
       "  <tbody>\n",
       "    <tr>\n",
       "      <th>0</th>\n",
       "      <td>3dprinting</td>\n",
       "      <td>1</td>\n",
       "      <td>101</td>\n",
       "      <td>2016-01-12T18:02:28.700</td>\n",
       "      <td>2017-05-12T19:12:03.053</td>\n",
       "      <td>NaN</td>\n",
       "      <td>221</td>\n",
       "      <td>0</td>\n",
       "      <td>14</td>\n",
       "      <td>34933</td>\n",
       "    </tr>\n",
       "    <tr>\n",
       "      <th>1</th>\n",
       "      <td>3dprinting</td>\n",
       "      <td>2</td>\n",
       "      <td>101</td>\n",
       "      <td>2016-01-12T18:04:23.367</td>\n",
       "      <td>2017-08-16T19:45:31.167</td>\n",
       "      <td>NaN</td>\n",
       "      <td>4</td>\n",
       "      <td>0</td>\n",
       "      <td>0</td>\n",
       "      <td>102159</td>\n",
       "    </tr>\n",
       "    <tr>\n",
       "      <th>2</th>\n",
       "      <td>3dprinting</td>\n",
       "      <td>3</td>\n",
       "      <td>101</td>\n",
       "      <td>2016-01-12T18:04:39.963</td>\n",
       "      <td>2017-07-04T15:04:50.553</td>\n",
       "      <td>26</td>\n",
       "      <td>3</td>\n",
       "      <td>0</td>\n",
       "      <td>0</td>\n",
       "      <td>89201</td>\n",
       "    </tr>\n",
       "  </tbody>\n",
       "</table>\n",
       "</div>"
      ],
      "text/plain": [
       "    community UserId Reputation             CreationDate  \\\n",
       "0  3dprinting      1        101  2016-01-12T18:02:28.700   \n",
       "1  3dprinting      2        101  2016-01-12T18:04:23.367   \n",
       "2  3dprinting      3        101  2016-01-12T18:04:39.963   \n",
       "\n",
       "            LastAccessDate  Age Views UpVotes DownVotes AccountId  \n",
       "0  2017-05-12T19:12:03.053  NaN   221       0        14     34933  \n",
       "1  2017-08-16T19:45:31.167  NaN     4       0         0    102159  \n",
       "2  2017-07-04T15:04:50.553   26     3       0         0     89201  "
      ]
     },
     "execution_count": 6,
     "metadata": {},
     "output_type": "execute_result"
    }
   ],
   "source": [
    "users_header = ['community', 'Id', 'Reputation', 'CreationDate', 'LastAccessDate', \n",
    "                'Age', 'Views', 'UpVotes', 'DownVotes', 'AccountId']\n",
    "\n",
    "users = add_header(pd.read_csv('users.csv'), users_header).rename(columns = {'Id':'UserId'})\n",
    "users[:3]"
   ]
  },
  {
   "cell_type": "code",
   "execution_count": 7,
   "metadata": {},
   "outputs": [
    {
     "data": {
      "text/plain": [
       "array(['3dprinting', 1, 101, '2016-01-12T18:02:28.700',\n",
       "       '2017-05-12T19:12:03.053', nan, 221, 0, 14, 34933.0], dtype=object)"
      ]
     },
     "execution_count": 7,
     "metadata": {},
     "output_type": "execute_result"
    }
   ],
   "source": [
    "users.values[0]"
   ]
  },
  {
   "cell_type": "code",
   "execution_count": 8,
   "metadata": {},
   "outputs": [],
   "source": [
    "# Link local userid and global userid\n",
    "link = {}\n",
    "users = users[users['AccountId'].notnull()]\n",
    "\n",
    "for row in users.values:\n",
    "    community, local_id, global_id = row[0], row[1], row[-1]\n",
    "    if community not in link:\n",
    "        link[community] = {}\n",
    "    \n",
    "    link[community][local_id] = int(float(global_id))"
   ]
  },
  {
   "cell_type": "code",
   "execution_count": 9,
   "metadata": {},
   "outputs": [
    {
     "data": {
      "text/html": [
       "<div>\n",
       "<style scoped>\n",
       "    .dataframe tbody tr th:only-of-type {\n",
       "        vertical-align: middle;\n",
       "    }\n",
       "\n",
       "    .dataframe tbody tr th {\n",
       "        vertical-align: top;\n",
       "    }\n",
       "\n",
       "    .dataframe thead th {\n",
       "        text-align: right;\n",
       "    }\n",
       "</style>\n",
       "<table border=\"1\" class=\"dataframe\">\n",
       "  <thead>\n",
       "    <tr style=\"text-align: right;\">\n",
       "      <th></th>\n",
       "      <th>community</th>\n",
       "      <th>PostId</th>\n",
       "      <th>PostTypeId</th>\n",
       "      <th>ParentId</th>\n",
       "      <th>AcceptedAnswerId</th>\n",
       "      <th>CreationDate</th>\n",
       "      <th>Score</th>\n",
       "      <th>ViewCount</th>\n",
       "      <th>OwnerUserId</th>\n",
       "      <th>LastEditorUserId</th>\n",
       "      <th>LastEditDate</th>\n",
       "      <th>LastActivityDate</th>\n",
       "      <th>AnswerCount</th>\n",
       "      <th>CommentCount</th>\n",
       "      <th>FavoriteCount</th>\n",
       "    </tr>\n",
       "  </thead>\n",
       "  <tbody>\n",
       "    <tr>\n",
       "      <th>0</th>\n",
       "      <td>3dprinting</td>\n",
       "      <td>2</td>\n",
       "      <td>1</td>\n",
       "      <td>NaN</td>\n",
       "      <td>12</td>\n",
       "      <td>2016-01-12T18:45:51.287</td>\n",
       "      <td>22</td>\n",
       "      <td>1153</td>\n",
       "      <td>20</td>\n",
       "      <td>334</td>\n",
       "      <td>2016-11-15T16:16:11.163</td>\n",
       "      <td>2016-11-15T16:16:11.163</td>\n",
       "      <td>4</td>\n",
       "      <td>1</td>\n",
       "      <td>1</td>\n",
       "    </tr>\n",
       "    <tr>\n",
       "      <th>1</th>\n",
       "      <td>3dprinting</td>\n",
       "      <td>3</td>\n",
       "      <td>1</td>\n",
       "      <td>NaN</td>\n",
       "      <td>152</td>\n",
       "      <td>2016-01-12T18:46:22.083</td>\n",
       "      <td>16</td>\n",
       "      <td>738</td>\n",
       "      <td>11</td>\n",
       "      <td>11</td>\n",
       "      <td>2016-01-12T22:00:36.347</td>\n",
       "      <td>2016-09-19T15:41:06.537</td>\n",
       "      <td>3</td>\n",
       "      <td>5</td>\n",
       "      <td>1</td>\n",
       "    </tr>\n",
       "    <tr>\n",
       "      <th>2</th>\n",
       "      <td>3dprinting</td>\n",
       "      <td>4</td>\n",
       "      <td>1</td>\n",
       "      <td>NaN</td>\n",
       "      <td>1289</td>\n",
       "      <td>2016-01-12T18:50:55.973</td>\n",
       "      <td>15</td>\n",
       "      <td>155</td>\n",
       "      <td>16</td>\n",
       "      <td>98</td>\n",
       "      <td>2016-06-09T02:10:35.890</td>\n",
       "      <td>2016-06-10T13:32:20.493</td>\n",
       "      <td>4</td>\n",
       "      <td>0</td>\n",
       "      <td>2</td>\n",
       "    </tr>\n",
       "  </tbody>\n",
       "</table>\n",
       "</div>"
      ],
      "text/plain": [
       "    community PostId PostTypeId ParentId AcceptedAnswerId  \\\n",
       "0  3dprinting      2          1      NaN               12   \n",
       "1  3dprinting      3          1      NaN              152   \n",
       "2  3dprinting      4          1      NaN             1289   \n",
       "\n",
       "              CreationDate Score ViewCount OwnerUserId LastEditorUserId  \\\n",
       "0  2016-01-12T18:45:51.287    22      1153          20              334   \n",
       "1  2016-01-12T18:46:22.083    16       738          11               11   \n",
       "2  2016-01-12T18:50:55.973    15       155          16               98   \n",
       "\n",
       "              LastEditDate         LastActivityDate AnswerCount CommentCount  \\\n",
       "0  2016-11-15T16:16:11.163  2016-11-15T16:16:11.163           4            1   \n",
       "1  2016-01-12T22:00:36.347  2016-09-19T15:41:06.537           3            5   \n",
       "2  2016-06-09T02:10:35.890  2016-06-10T13:32:20.493           4            0   \n",
       "\n",
       "  FavoriteCount  \n",
       "0             1  \n",
       "1             1  \n",
       "2             2  "
      ]
     },
     "execution_count": 9,
     "metadata": {},
     "output_type": "execute_result"
    }
   ],
   "source": [
    "posts_header = ['community', 'Id', 'PostTypeId', 'ParentId', 'AcceptedAnswerId', \n",
    "'CreationDate', 'Score', 'ViewCount', 'OwnerUserId', \n",
    "'LastEditorUserId', 'LastEditDate', 'LastActivityDate', \n",
    "'AnswerCount', 'CommentCount', 'FavoriteCount']\n",
    "\n",
    "posts = add_header(pd.read_csv('posts.csv'), posts_header).rename(columns = {'Id':'PostId'})\n",
    "posts[:3]"
   ]
  },
  {
   "cell_type": "code",
   "execution_count": 11,
   "metadata": {},
   "outputs": [
    {
     "data": {
      "text/plain": [
       "93"
      ]
     },
     "execution_count": 11,
     "metadata": {},
     "output_type": "execute_result"
    }
   ],
   "source": [
    "posts[\"community\"].nunique()"
   ]
  },
  {
   "cell_type": "markdown",
   "metadata": {},
   "source": [
    "# Final touch on posts. posts_np is numpy array sorted by global user id"
   ]
  },
  {
   "cell_type": "code",
   "execution_count": 13,
   "metadata": {},
   "outputs": [],
   "source": [
    "# Parser for time, output is days after 2008\n",
    "# Not accurate but close enough\n",
    "def parse_time(time_str):\n",
    "    if type(time_str) == int:\n",
    "        return time_str\n",
    "    \n",
    "    time_str = time_str[0:time_str.find('T')]\n",
    "    loc = time_str.find('-')\n",
    "    year = int(time_str[0:loc])\n",
    "    month = int(time_str[loc+1:loc+3])\n",
    "    day = int(time_str[loc+4:loc+6])\n",
    "    \n",
    "    return (year-2008)*365 + (month-1)*30 + day-1"
   ]
  },
  {
   "cell_type": "code",
   "execution_count": 14,
   "metadata": {},
   "outputs": [],
   "source": [
    "# Convert PostType Id to verbal description\n",
    "def parse_postid(postid):\n",
    "    if type(postid) != int:\n",
    "        return postid\n",
    "    \n",
    "    if postid == 1:\n",
    "        return \"question\"\n",
    "    if postid == 2:\n",
    "        return \"answer\"\n",
    "    \n",
    "    return \"others\""
   ]
  },
  {
   "cell_type": "code",
   "execution_count": 15,
   "metadata": {},
   "outputs": [],
   "source": [
    "# Convert local account id to global account id\n",
    "def convert_id(local_id, community, link):\n",
    "    if community not in link:\n",
    "        return -1\n",
    "    if local_id not in link[community]:\n",
    "        return -1\n",
    "    return link[community][local_id]"
   ]
  },
  {
   "cell_type": "code",
   "execution_count": 16,
   "metadata": {},
   "outputs": [],
   "source": [
    "# Convert \"Creation time\" to relative time after 2008-01-01 in days\n",
    "posts['CreationDate'] = posts['CreationDate'].apply(parse_time)\n",
    "# Convert PostTypeId from digit to string\n",
    "posts['PostTypeId'] = posts['PostTypeId'].apply(parse_postid)"
   ]
  },
  {
   "cell_type": "code",
   "execution_count": 17,
   "metadata": {},
   "outputs": [],
   "source": [
    "posts_np = posts.values\n",
    "for idx, row in enumerate(posts_np):\n",
    "    posts_np[idx][8] = convert_id(row[8], row[0], link)"
   ]
  },
  {
   "cell_type": "code",
   "execution_count": 18,
   "metadata": {},
   "outputs": [],
   "source": [
    "posts_np = posts_np[posts_np[:,8].argsort()]\n",
    "posts_np = posts_np[posts_np[:,8] != -1]"
   ]
  },
  {
   "cell_type": "markdown",
   "metadata": {},
   "source": [
    "# Let's Roll!"
   ]
  },
  {
   "cell_type": "code",
   "execution_count": 20,
   "metadata": {},
   "outputs": [],
   "source": [
    "if not os.path.exists(\"stat428\"):\n",
    "    os.mkdir(\"stat428\")\n",
    "        \n",
    "last_idx = 0\n",
    "for idx, row in enumerate(posts_np):\n",
    "    if idx == len(posts_np) - 1 or row[8] != posts_np[idx+1][8]:\n",
    "        user_posts = posts_np[last_idx:idx+1][:,[0, 2, 6, 5]]\n",
    "        if len(user_posts) > 20:\n",
    "            pd.DataFrame(user_posts).to_csv(\"stat428/\"+str(row[8])+\".csv\", header=['community','action','score','date'], index=None)\n",
    "            \n",
    "        last_idx = idx"
   ]
  }
 ],
 "metadata": {
  "kernelspec": {
   "display_name": "Python 3",
   "language": "python",
   "name": "python3"
  },
  "language_info": {
   "codemirror_mode": {
    "name": "ipython",
    "version": 3
   },
   "file_extension": ".py",
   "mimetype": "text/x-python",
   "name": "python",
   "nbconvert_exporter": "python",
   "pygments_lexer": "ipython3",
   "version": "3.6.4"
  }
 },
 "nbformat": 4,
 "nbformat_minor": 2
}
